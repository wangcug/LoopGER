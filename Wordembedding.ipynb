{
 "cells": [
  {
   "cell_type": "code",
   "execution_count": 1,
   "id": "25d900ef",
   "metadata": {},
   "outputs": [],
   "source": [
    "from gensim.models import word2vec\n",
    "import gensim"
   ]
  },
  {
   "cell_type": "code",
   "execution_count": 3,
   "id": "61c5feb2",
   "metadata": {},
   "outputs": [],
   "source": [
    "#导入数据，.txt文本应提前进行分词、词性还原、去除停止词等预处理工作，根据不同需求预处理工作也不一样\n",
    "sentences = word2vec.Text8Corpus('/Users/yvse/Desktop/text_lem.txt')\n",
    "#设置参数，主要设置参数如下\n",
    "#size：词向量维数；window：滑动窗口大小；min_count：最小词频；sg：训练方法，0为CBOW，1为skp-gram,推荐使用skip-gram\n",
    "model = gensim.models.word2vec.Word2Vec(sentences, size=100, window=20, min_count=1, sg=1, hs=1, negative=5, sample=0.001, workers=4,iter=100)\n",
    "#模型保存\n",
    "model.wv.save_word2vec_format('/Users/yvse/Desktop/text_lem_w2v.txt', binary=False)"
   ]
  },
  {
   "cell_type": "code",
   "execution_count": null,
   "id": "abb38d8b",
   "metadata": {},
   "outputs": [],
   "source": []
  }
 ],
 "metadata": {
  "kernelspec": {
   "display_name": "Python 3 (ipykernel)",
   "language": "python",
   "name": "python3"
  },
  "language_info": {
   "codemirror_mode": {
    "name": "ipython",
    "version": 3
   },
   "file_extension": ".py",
   "mimetype": "text/x-python",
   "name": "python",
   "nbconvert_exporter": "python",
   "pygments_lexer": "ipython3",
   "version": "3.7.13"
  }
 },
 "nbformat": 4,
 "nbformat_minor": 5
}
