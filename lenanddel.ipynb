{
 "cells": [
  {
   "cell_type": "code",
   "execution_count": 1,
   "id": "a7e97f0d",
   "metadata": {},
   "outputs": [],
   "source": [
    "from nltk import word_tokenize, pos_tag\n",
    "from nltk.corpus import wordnet\n",
    "from nltk.stem import WordNetLemmatizer\n",
    "\n",
    "from nltk.corpus import stopwords\n",
    "from nltk.tokenize import sent_tokenize, word_tokenize\n",
    "\n",
    "import numpy as np\n",
    "import matplotlib.pyplot as plt\n",
    "import os"
   ]
  },
  {
   "cell_type": "code",
   "execution_count": 2,
   "id": "6a10df97",
   "metadata": {},
   "outputs": [
    {
     "name": "stdout",
     "output_type": "stream",
     "text": [
      "datas: [[['Relative', 'ages', 'of', 'alteration', 'Figure', '5', 'shows', 'the', 'inferred', 'sequence', 'of', 'hydrothermal', 'alteration', '.'], ['O', 'O', 'O', 'O', 'O', 'O', 'O', 'O', 'O', 'O', 'O', 'I-AT', 'I-AT', 'O']]]\n",
      "1778\n"
     ]
    }
   ],
   "source": [
    "#读入数据\n",
    "datas = []\n",
    "sample_x = []\n",
    "sample_y = []\n",
    "for line in open('/home/wcb/nerXY/train.bio', 'r', encoding='utf-8'):\n",
    "    line = line.rstrip().split('\\t')\n",
    "    if not line:\n",
    "        continue\n",
    "    char = line[0]\n",
    "    if not char:\n",
    "        continue\n",
    "    cate = line[-1]\n",
    "    sample_x.append(char)\n",
    "    sample_y.append(cate)\n",
    "    if char in ['.']:\n",
    "        datas.append([sample_x, sample_y])\n",
    "        sample_x = []\n",
    "        sample_y = []\n",
    "print('datas:',datas[-1:])\n",
    "print(len(datas))"
   ]
  },
  {
   "cell_type": "code",
   "execution_count": 3,
   "id": "b86ca7ba",
   "metadata": {},
   "outputs": [],
   "source": [
    "#获取词性\n",
    "def get_wordnet_pos(tag):\n",
    "    if tag.startswith('J'):\n",
    "        return wordnet.ADJ\n",
    "    elif tag.startswith('V'):\n",
    "        return wordnet.VERB\n",
    "    elif tag.startswith('N'):\n",
    "        return wordnet.NOUN\n",
    "    elif tag.startswith('R'):\n",
    "        return wordnet.ADV\n",
    "    else:\n",
    "        return None"
   ]
  },
  {
   "cell_type": "code",
   "execution_count": 4,
   "id": "1057434a",
   "metadata": {},
   "outputs": [
    {
     "name": "stdout",
     "output_type": "stream",
     "text": [
      "['down', \"won't\", 'isn', 'over', 'both', 'you', \"you're\", 'a', 'at', \"that'll\", 'how', 'same', 'have', 'them', 'do', 'with', \"shan't\", 'then', 'what', 'he', 'having', 'more', 'not', \"mightn't\", 'we', 'won', 'is', 'has', \"you'd\", \"wouldn't\", 't', 'if', 'being', 'herself', 'shouldn', 'they', 'whom', \"isn't\", 'were', \"it's\", 'ours', \"don't\", 'after', 're', 'yours', 'does', 's', 'hadn', \"haven't\", 'y', 'so', 'couldn', 'it', 'between', 'm', 'shan', \"weren't\", 'didn', 'doing', 've', 'because', 'wasn', 'i', 'other', 'those', \"shouldn't\", 'to', \"couldn't\", 'did', 'only', \"needn't\", 'she', 'doesn', 'against', 'just', 'until', \"hadn't\", 'our', \"doesn't\", 'nor', \"she's\", 'and', 'had', 'few', 'there', 'why', 'can', 'aren', 'while', 'his', 'ma', 'which', 'such', 'weren', 'needn', 'that', 'from', \"should've\", 'before', 'in', 'am', 'once', 'was', 'no', 'own', 'its', \"you'll\", 'too', \"you've\", 'him', 'ourselves', 'above', 'most', 'again', 'than', 'or', 'but', 'of', 'on', 'off', 'here', 'o', 'will', 'where', 'who', 'further', 'up', 'himself', 'all', 'me', 'for', 'the', 'out', 'haven', 'this', \"aren't\", 'your', 'theirs', 'yourself', 'my', 'mustn', 'themselves', 'about', 'myself', 'll', 'some', 'hasn', 'any', 'very', 'during', 'now', 'd', 'mightn', 'don', \"mustn't\", 'wouldn', 'hers', 'be', \"didn't\", 'itself', 'ain', 'through', \"wasn't\", 'under', 'by', 'are', 'into', 'when', \"hasn't\", 'as', 'below', 'their', 'each', 'yourselves', 'should', 'been', 'her', 'an', 'these']\n"
     ]
    }
   ],
   "source": [
    "#获取停止词表\n",
    "list_stopword = list(set(stopwords.words('english')))\n",
    "print(list_stopword)"
   ]
  },
  {
   "cell_type": "code",
   "execution_count": 6,
   "id": "608d9419",
   "metadata": {},
   "outputs": [],
   "source": [
    "sen_lower = []\n",
    "wnl = WordNetLemmatizer()\n",
    "sen_lem = []\n",
    "#预处理后写入文件路径\n",
    "f = open('/home/wcb/nerXY/train_lem.bio', 'w', encoding='utf-8')\n",
    "for i in range(0,len(datas)):\n",
    "    for word in datas[i][0]:\n",
    "        word = word.lower()\n",
    "        sen_lower.append(word)\n",
    "    #sentences = ' '.join(sen_lower)\n",
    "    #tokens = word_tokenize(sentences)\n",
    "    tagged_sent = pos_tag(sen_lower)\n",
    "    for tag in tagged_sent:\n",
    "        wordnet_pos = get_wordnet_pos(tag[1]) or wordnet.NOUN\n",
    "        sen_lem.append(wnl.lemmatize(tag[0], pos=wordnet_pos))\n",
    "    for j in range(0,len(sen_lem)):\n",
    "        if sen_lem[j] not in list_stopword:\n",
    "            f.write(sen_lem[j] + '\\t' + datas[i][1][j] + '\\r')\n",
    "    f.write('\\r')\n",
    "    sen_lower = []\n",
    "    sen_lem = []"
   ]
  },
  {
   "cell_type": "code",
   "execution_count": null,
   "id": "db04e92a",
   "metadata": {},
   "outputs": [],
   "source": []
  }
 ],
 "metadata": {
  "kernelspec": {
   "display_name": "Python 3 (ipykernel)",
   "language": "python",
   "name": "python3"
  },
  "language_info": {
   "codemirror_mode": {
    "name": "ipython",
    "version": 3
   },
   "file_extension": ".py",
   "mimetype": "text/x-python",
   "name": "python",
   "nbconvert_exporter": "python",
   "pygments_lexer": "ipython3",
   "version": "3.7.13"
  }
 },
 "nbformat": 4,
 "nbformat_minor": 5
}
