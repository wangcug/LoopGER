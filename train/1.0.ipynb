{
 "cells": [
  {
   "cell_type": "code",
   "execution_count": 1,
   "id": "c1594dae",
   "metadata": {},
   "outputs": [
    {
     "name": "stderr",
     "output_type": "stream",
     "text": [
      "Using TensorFlow backend.\n"
     ]
    }
   ],
   "source": [
    "import numpy as np\n",
    "import keras\n",
    "from keras import backend as K\n",
    "from keras.preprocessing.sequence import pad_sequences\n",
    "from keras.models import Sequential\n",
    "from keras.layers import Embedding, Bidirectional, LSTM, Dense, TimeDistributed, Dropout\n",
    "from keras_contrib.layers.crf import CRF\n",
    "import matplotlib.pyplot as plt\n",
    "import os\n",
    "from keras.models import Model\n",
    "from keras.callbacks import ReduceLROnPlateau\n",
    "import json\n",
    "from keras import metrics\n",
    "os.environ['TF_CPP_MIN_LOG_LEVEL'] = '2'\n",
    "os.environ[\"KMP_DUPLICATE_LIB_OK\"]=\"TRUE\""
   ]
  },
  {
   "cell_type": "code",
   "execution_count": 2,
   "id": "04f8df0c",
   "metadata": {},
   "outputs": [],
   "source": [
    "#构建数据列表datas与词表vocabs，sample_x与sample_y为传递数据的中间变量\n",
    "sample_x = []\n",
    "sample_y = []\n",
    "vocabs = {'UNK'}\n",
    "datas = []\n",
    "#读取文件数据，‘filename’双引号内为文件路径，数据文件格式为：Word Label\n",
    "for line in open('/home/wcb/nerXY/train_data/1.0_train.txt', 'r', encoding='utf-8'):\n",
    "    line = line.rstrip().split('\\t')\n",
    "    if not line:\n",
    "        continue\n",
    "    char = line[0]\n",
    "    if not char:\n",
    "        continue\n",
    "    cate = line[-1]\n",
    "    sample_x.append(char)\n",
    "    sample_y.append(cate)\n",
    "    vocabs.add(char)\n",
    "    if char in ['.', '?', '!']:\n",
    "        datas.append([sample_x, sample_y])\n",
    "        sample_x = []\n",
    "        sample_y = []\n",
    "word_dict = {wd:index for index,wd in enumerate(list(vocabs))}"
   ]
  },
  {
   "cell_type": "code",
   "execution_count": 3,
   "id": "3cc63bfc",
   "metadata": {},
   "outputs": [],
   "source": [
    "#每一次程序运行都会更新词表的顺序！！！\n",
    "#记录词表vocabs中词语的顺序，后续运行模型时需要调取对应的词表，''内为词表路径\n",
    "file = open('/home/wcb/nerXY/word_dict/1.0_word_dict.txt', 'w') \n",
    "for k,v in word_dict.items():\n",
    "    file.write(str(v) + ' ' + str(k) + '\\n')\n",
    "file.close()"
   ]
  },
  {
   "cell_type": "code",
   "execution_count": 4,
   "id": "f1372b1e",
   "metadata": {},
   "outputs": [],
   "source": [
    "#构建标签词典\n",
    "class_dict = {'O':0,\n",
    "              'I-MC':1,\n",
    "              'I-PCC':2,\n",
    "              'I-DTS':3\n",
    "             }\n",
    "#构建模型输入的训练数据，用数字代表标签种类\n",
    "x_train = [[word_dict[char] for char in data[0]] for data in datas]\n",
    "y_train = [[class_dict[label] for label in data[1]] for data in datas]\n",
    "#此处设置最大句长 maxlen\n",
    "x_train = pad_sequences(x_train, maxlen=40, padding='post')\n",
    "y = pad_sequences(y_train, maxlen=40, padding='post')\n",
    "y_train = np.expand_dims(y, axis=2)"
   ]
  },
  {
   "cell_type": "code",
   "execution_count": 5,
   "id": "5e661ed4",
   "metadata": {},
   "outputs": [
    {
     "name": "stdout",
     "output_type": "stream",
     "text": [
      "Found 3796 word vectors.\n"
     ]
    }
   ],
   "source": [
    "#导入词向量文件，''内为文件路径\n",
    "embeddings_dict = {}\n",
    "with open('/home/wcb/nerXY/w2v/1.0_w2v.txt', 'r', encoding='utf-8') as f:\n",
    "    for line in f:\n",
    "        values = line.strip().split(' ')\n",
    "        #72为词向量长度，使用不同词向量维数时应修改\n",
    "        if len(values) < 72:\n",
    "            continue\n",
    "        word = values[0]\n",
    "        coefs = np.asarray(values[1:], dtype='float32')\n",
    "        embeddings_dict[word] = coefs\n",
    "print('Found %s word vectors.' % len(embeddings_dict))\n",
    "\n",
    "#构建词向量矩阵，np.zeros((len(word_dict) + 1, 72))中的72为词向量长度，使用不同词向量维数时应修改\n",
    "embedding_matrix = np.zeros((len(word_dict) + 1, 72))\n",
    "for word, i in word_dict.items():\n",
    "    embedding_vector = embeddings_dict.get(word)\n",
    "    if embedding_vector is not None:\n",
    "        embedding_matrix[i] = embedding_vector"
   ]
  },
  {
   "cell_type": "code",
   "execution_count": 6,
   "id": "cc9bcdda",
   "metadata": {
    "collapsed": true
   },
   "outputs": [
    {
     "name": "stdout",
     "output_type": "stream",
     "text": [
      "WARNING:tensorflow:From /home/wcb/anaconda3/envs/NERxy/lib/python3.7/site-packages/keras/backend/tensorflow_backend.py:74: The name tf.get_default_graph is deprecated. Please use tf.compat.v1.get_default_graph instead.\n",
      "\n",
      "WARNING:tensorflow:From /home/wcb/anaconda3/envs/NERxy/lib/python3.7/site-packages/keras/backend/tensorflow_backend.py:517: The name tf.placeholder is deprecated. Please use tf.compat.v1.placeholder instead.\n",
      "\n",
      "WARNING:tensorflow:From /home/wcb/anaconda3/envs/NERxy/lib/python3.7/site-packages/keras/backend/tensorflow_backend.py:4138: The name tf.random_uniform is deprecated. Please use tf.random.uniform instead.\n",
      "\n",
      "WARNING:tensorflow:From /home/wcb/anaconda3/envs/NERxy/lib/python3.7/site-packages/keras/backend/tensorflow_backend.py:174: The name tf.get_default_session is deprecated. Please use tf.compat.v1.get_default_session instead.\n",
      "\n",
      "WARNING:tensorflow:From /home/wcb/anaconda3/envs/NERxy/lib/python3.7/site-packages/keras/backend/tensorflow_backend.py:181: The name tf.ConfigProto is deprecated. Please use tf.compat.v1.ConfigProto instead.\n",
      "\n",
      "WARNING:tensorflow:From /home/wcb/anaconda3/envs/NERxy/lib/python3.7/site-packages/keras/backend/tensorflow_backend.py:186: The name tf.Session is deprecated. Please use tf.compat.v1.Session instead.\n",
      "\n",
      "WARNING:tensorflow:From /home/wcb/anaconda3/envs/NERxy/lib/python3.7/site-packages/keras/backend/tensorflow_backend.py:190: The name tf.global_variables is deprecated. Please use tf.compat.v1.global_variables instead.\n",
      "\n",
      "WARNING:tensorflow:From /home/wcb/anaconda3/envs/NERxy/lib/python3.7/site-packages/keras/backend/tensorflow_backend.py:199: The name tf.is_variable_initialized is deprecated. Please use tf.compat.v1.is_variable_initialized instead.\n",
      "\n",
      "WARNING:tensorflow:From /home/wcb/anaconda3/envs/NERxy/lib/python3.7/site-packages/keras/backend/tensorflow_backend.py:206: The name tf.variables_initializer is deprecated. Please use tf.compat.v1.variables_initializer instead.\n",
      "\n",
      "WARNING:tensorflow:From /home/wcb/anaconda3/envs/NERxy/lib/python3.7/site-packages/keras/backend/tensorflow_backend.py:2974: where (from tensorflow.python.ops.array_ops) is deprecated and will be removed in a future version.\n",
      "Instructions for updating:\n",
      "Use tf.where in 2.0, which has the same broadcast rule as np.where\n"
     ]
    },
    {
     "name": "stderr",
     "output_type": "stream",
     "text": [
      "OMP: Info #212: KMP_AFFINITY: decoding x2APIC ids.\n",
      "OMP: Info #210: KMP_AFFINITY: Affinity capable, using global cpuid leaf 11 info\n",
      "OMP: Info #154: KMP_AFFINITY: Initial OS proc set respected: 0-31\n",
      "OMP: Info #156: KMP_AFFINITY: 32 available OS procs\n",
      "OMP: Info #157: KMP_AFFINITY: Uniform topology\n",
      "OMP: Info #179: KMP_AFFINITY: 1 packages x 16 cores/pkg x 2 threads/core (16 total cores)\n",
      "OMP: Info #214: KMP_AFFINITY: OS proc to physical thread map:\n",
      "OMP: Info #171: KMP_AFFINITY: OS proc 0 maps to package 0 core 0 thread 0 \n",
      "OMP: Info #171: KMP_AFFINITY: OS proc 16 maps to package 0 core 0 thread 1 \n",
      "OMP: Info #171: KMP_AFFINITY: OS proc 1 maps to package 0 core 1 thread 0 \n",
      "OMP: Info #171: KMP_AFFINITY: OS proc 17 maps to package 0 core 1 thread 1 \n",
      "OMP: Info #171: KMP_AFFINITY: OS proc 2 maps to package 0 core 2 thread 0 \n",
      "OMP: Info #171: KMP_AFFINITY: OS proc 18 maps to package 0 core 2 thread 1 \n",
      "OMP: Info #171: KMP_AFFINITY: OS proc 3 maps to package 0 core 3 thread 0 \n",
      "OMP: Info #171: KMP_AFFINITY: OS proc 19 maps to package 0 core 3 thread 1 \n",
      "OMP: Info #171: KMP_AFFINITY: OS proc 4 maps to package 0 core 4 thread 0 \n",
      "OMP: Info #171: KMP_AFFINITY: OS proc 20 maps to package 0 core 4 thread 1 \n",
      "OMP: Info #171: KMP_AFFINITY: OS proc 5 maps to package 0 core 5 thread 0 \n",
      "OMP: Info #171: KMP_AFFINITY: OS proc 21 maps to package 0 core 5 thread 1 \n",
      "OMP: Info #171: KMP_AFFINITY: OS proc 6 maps to package 0 core 6 thread 0 \n",
      "OMP: Info #171: KMP_AFFINITY: OS proc 22 maps to package 0 core 6 thread 1 \n",
      "OMP: Info #171: KMP_AFFINITY: OS proc 7 maps to package 0 core 7 thread 0 \n",
      "OMP: Info #171: KMP_AFFINITY: OS proc 23 maps to package 0 core 7 thread 1 \n",
      "OMP: Info #171: KMP_AFFINITY: OS proc 8 maps to package 0 core 8 thread 0 \n",
      "OMP: Info #171: KMP_AFFINITY: OS proc 24 maps to package 0 core 8 thread 1 \n",
      "OMP: Info #171: KMP_AFFINITY: OS proc 9 maps to package 0 core 9 thread 0 \n",
      "OMP: Info #171: KMP_AFFINITY: OS proc 25 maps to package 0 core 9 thread 1 \n",
      "OMP: Info #171: KMP_AFFINITY: OS proc 10 maps to package 0 core 10 thread 0 \n",
      "OMP: Info #171: KMP_AFFINITY: OS proc 26 maps to package 0 core 10 thread 1 \n",
      "OMP: Info #171: KMP_AFFINITY: OS proc 11 maps to package 0 core 11 thread 0 \n",
      "OMP: Info #171: KMP_AFFINITY: OS proc 27 maps to package 0 core 11 thread 1 \n",
      "OMP: Info #171: KMP_AFFINITY: OS proc 12 maps to package 0 core 12 thread 0 \n",
      "OMP: Info #171: KMP_AFFINITY: OS proc 28 maps to package 0 core 12 thread 1 \n",
      "OMP: Info #171: KMP_AFFINITY: OS proc 13 maps to package 0 core 13 thread 0 \n",
      "OMP: Info #171: KMP_AFFINITY: OS proc 29 maps to package 0 core 13 thread 1 \n",
      "OMP: Info #171: KMP_AFFINITY: OS proc 14 maps to package 0 core 14 thread 0 \n",
      "OMP: Info #171: KMP_AFFINITY: OS proc 30 maps to package 0 core 14 thread 1 \n",
      "OMP: Info #171: KMP_AFFINITY: OS proc 15 maps to package 0 core 15 thread 0 \n",
      "OMP: Info #171: KMP_AFFINITY: OS proc 31 maps to package 0 core 15 thread 1 \n",
      "OMP: Info #250: KMP_AFFINITY: pid 3878 tid 3878 thread 0 bound to OS proc set 0\n"
     ]
    },
    {
     "name": "stdout",
     "output_type": "stream",
     "text": [
      "WARNING:tensorflow:From /home/wcb/anaconda3/envs/NERxy/lib/python3.7/site-packages/keras/backend/tensorflow_backend.py:133: The name tf.placeholder_with_default is deprecated. Please use tf.compat.v1.placeholder_with_default instead.\n",
      "\n",
      "WARNING:tensorflow:From /home/wcb/anaconda3/envs/NERxy/lib/python3.7/site-packages/keras/backend/tensorflow_backend.py:3445: calling dropout (from tensorflow.python.ops.nn_ops) with keep_prob is deprecated and will be removed in a future version.\n",
      "Instructions for updating:\n",
      "Please use `rate` instead of `keep_prob`. Rate should be set to `rate = 1 - keep_prob`.\n",
      "WARNING:tensorflow:From /home/wcb/anaconda3/envs/NERxy/lib/python3.7/site-packages/keras/optimizers.py:790: The name tf.train.Optimizer is deprecated. Please use tf.compat.v1.train.Optimizer instead.\n",
      "\n"
     ]
    },
    {
     "name": "stderr",
     "output_type": "stream",
     "text": [
      "/home/wcb/.local/lib/python3.7/site-packages/keras_contrib-2.0.8-py3.7.egg/keras_contrib/layers/crf.py:346: UserWarning: CRF.loss_function is deprecated and it might be removed in the future. Please use losses.crf_loss instead.\n",
      "/home/wcb/.local/lib/python3.7/site-packages/keras_contrib-2.0.8-py3.7.egg/keras_contrib/layers/crf.py:353: UserWarning: CRF.accuracy is deprecated and it might be removed in the future. Please use metrics.crf_accuracy\n"
     ]
    },
    {
     "name": "stdout",
     "output_type": "stream",
     "text": [
      "_________________________________________________________________\n",
      "Layer (type)                 Output Shape              Param #   \n",
      "=================================================================\n",
      "embedding_1 (Embedding)      (None, 40, 72)            273528    \n",
      "_________________________________________________________________\n",
      "bidirectional_1 (Bidirection (None, 40, 16)            5184      \n",
      "_________________________________________________________________\n",
      "dropout_1 (Dropout)          (None, 40, 16)            0         \n",
      "_________________________________________________________________\n",
      "time_distributed_1 (TimeDist (None, 40, 4)             68        \n",
      "_________________________________________________________________\n",
      "crf_1 (CRF)                  (None, 40, 4)             44        \n",
      "=================================================================\n",
      "Total params: 278,824\n",
      "Trainable params: 5,296\n",
      "Non-trainable params: 273,528\n",
      "_________________________________________________________________\n"
     ]
    }
   ],
   "source": [
    "#构建模型\n",
    "model = Sequential()\n",
    "#词向量层，72为词向量长度，使用不同词向量维数时应修改，input_length=40为最大句长，最大句长不同时应做相应修改\n",
    "embedding_layer = Embedding(len(word_dict) + 1,\n",
    "                            72,\n",
    "                            weights=[embedding_matrix],\n",
    "                            input_length=40,\n",
    "                            trainable=False,\n",
    "                            mask_zero=True)\n",
    "model.add(embedding_layer)\n",
    "#8为神经元个数\n",
    "model.add(Bidirectional(LSTM(8, return_sequences=True,  activation='softsign')))\n",
    "#dropout层防止过拟合\n",
    "model.add(Dropout(0.5))\n",
    "#全连接层\n",
    "model.add(TimeDistributed(Dense(len(class_dict))))\n",
    "#CRF层\n",
    "crf_layer = CRF(len(class_dict), sparse_target=True)\n",
    "model.add(crf_layer)\n",
    "model.compile(optimizer='AdaGrad', loss=crf_layer.loss_function, metrics=[crf_layer.accuracy])\n",
    "model.summary()"
   ]
  },
  {
   "cell_type": "code",
   "execution_count": 7,
   "id": "bcd57447",
   "metadata": {
    "collapsed": true
   },
   "outputs": [
    {
     "name": "stdout",
     "output_type": "stream",
     "text": [
      "WARNING:tensorflow:From /home/wcb/anaconda3/envs/NERxy/lib/python3.7/site-packages/keras/backend/tensorflow_backend.py:986: The name tf.assign_add is deprecated. Please use tf.compat.v1.assign_add instead.\n",
      "\n",
      "WARNING:tensorflow:From /home/wcb/anaconda3/envs/NERxy/lib/python3.7/site-packages/keras/backend/tensorflow_backend.py:973: The name tf.assign is deprecated. Please use tf.compat.v1.assign instead.\n",
      "\n",
      "Train on 3373 samples, validate on 375 samples\n",
      "Epoch 1/10\n",
      "  64/3373 [..............................] - ETA: 4:08 - loss: 2.9872 - crf_viterbi_accuracy: 0.4598"
     ]
    },
    {
     "name": "stderr",
     "output_type": "stream",
     "text": [
      "OMP: Info #250: KMP_AFFINITY: pid 3878 tid 4012 thread 1 bound to OS proc set 1\n",
      "OMP: Info #250: KMP_AFFINITY: pid 3878 tid 4019 thread 2 bound to OS proc set 2\n",
      "OMP: Info #250: KMP_AFFINITY: pid 3878 tid 4020 thread 3 bound to OS proc set 3\n",
      "OMP: Info #250: KMP_AFFINITY: pid 3878 tid 4021 thread 4 bound to OS proc set 4\n",
      "OMP: Info #250: KMP_AFFINITY: pid 3878 tid 4022 thread 5 bound to OS proc set 5\n",
      "OMP: Info #250: KMP_AFFINITY: pid 3878 tid 4023 thread 6 bound to OS proc set 6\n",
      "OMP: Info #250: KMP_AFFINITY: pid 3878 tid 4024 thread 7 bound to OS proc set 7\n",
      "OMP: Info #250: KMP_AFFINITY: pid 3878 tid 4025 thread 8 bound to OS proc set 8\n",
      "OMP: Info #250: KMP_AFFINITY: pid 3878 tid 4026 thread 9 bound to OS proc set 9\n",
      "OMP: Info #250: KMP_AFFINITY: pid 3878 tid 4027 thread 10 bound to OS proc set 10\n",
      "OMP: Info #250: KMP_AFFINITY: pid 3878 tid 4028 thread 11 bound to OS proc set 11\n",
      "OMP: Info #250: KMP_AFFINITY: pid 3878 tid 4029 thread 12 bound to OS proc set 12\n",
      "OMP: Info #250: KMP_AFFINITY: pid 3878 tid 4030 thread 13 bound to OS proc set 13\n",
      "OMP: Info #250: KMP_AFFINITY: pid 3878 tid 4032 thread 15 bound to OS proc set 15\n",
      "OMP: Info #250: KMP_AFFINITY: pid 3878 tid 4031 thread 14 bound to OS proc set 14\n",
      "OMP: Info #250: KMP_AFFINITY: pid 3878 tid 4033 thread 16 bound to OS proc set 16\n",
      "OMP: Info #250: KMP_AFFINITY: pid 3878 tid 4034 thread 17 bound to OS proc set 17\n",
      "OMP: Info #250: KMP_AFFINITY: pid 3878 tid 4035 thread 18 bound to OS proc set 18\n",
      "OMP: Info #250: KMP_AFFINITY: pid 3878 tid 4036 thread 19 bound to OS proc set 19\n",
      "OMP: Info #250: KMP_AFFINITY: pid 3878 tid 4037 thread 20 bound to OS proc set 20\n",
      "OMP: Info #250: KMP_AFFINITY: pid 3878 tid 4038 thread 21 bound to OS proc set 21\n",
      "OMP: Info #250: KMP_AFFINITY: pid 3878 tid 4039 thread 22 bound to OS proc set 22\n",
      "OMP: Info #250: KMP_AFFINITY: pid 3878 tid 4040 thread 23 bound to OS proc set 23\n",
      "OMP: Info #250: KMP_AFFINITY: pid 3878 tid 4041 thread 24 bound to OS proc set 24\n",
      "OMP: Info #250: KMP_AFFINITY: pid 3878 tid 4042 thread 25 bound to OS proc set 25\n",
      "OMP: Info #250: KMP_AFFINITY: pid 3878 tid 4043 thread 26 bound to OS proc set 26\n",
      "OMP: Info #250: KMP_AFFINITY: pid 3878 tid 4045 thread 28 bound to OS proc set 28\n",
      "OMP: Info #250: KMP_AFFINITY: pid 3878 tid 4044 thread 27 bound to OS proc set 27\n",
      "OMP: Info #250: KMP_AFFINITY: pid 3878 tid 4046 thread 29 bound to OS proc set 29\n",
      "OMP: Info #250: KMP_AFFINITY: pid 3878 tid 4047 thread 30 bound to OS proc set 30\n",
      "OMP: Info #250: KMP_AFFINITY: pid 3878 tid 4049 thread 32 bound to OS proc set 0\n",
      "OMP: Info #250: KMP_AFFINITY: pid 3878 tid 4048 thread 31 bound to OS proc set 31\n",
      "OMP: Info #250: KMP_AFFINITY: pid 3878 tid 4011 thread 33 bound to OS proc set 1\n",
      "OMP: Info #250: KMP_AFFINITY: pid 3878 tid 4050 thread 34 bound to OS proc set 2\n",
      "OMP: Info #250: KMP_AFFINITY: pid 3878 tid 4052 thread 36 bound to OS proc set 4\n",
      "OMP: Info #250: KMP_AFFINITY: pid 3878 tid 4051 thread 35 bound to OS proc set 3\n",
      "OMP: Info #250: KMP_AFFINITY: pid 3878 tid 4053 thread 37 bound to OS proc set 5\n",
      "OMP: Info #250: KMP_AFFINITY: pid 3878 tid 4054 thread 38 bound to OS proc set 6\n",
      "OMP: Info #250: KMP_AFFINITY: pid 3878 tid 4055 thread 39 bound to OS proc set 7\n",
      "OMP: Info #250: KMP_AFFINITY: pid 3878 tid 4056 thread 40 bound to OS proc set 8\n",
      "OMP: Info #250: KMP_AFFINITY: pid 3878 tid 4058 thread 42 bound to OS proc set 10\n",
      "OMP: Info #250: KMP_AFFINITY: pid 3878 tid 4057 thread 41 bound to OS proc set 9\n",
      "OMP: Info #250: KMP_AFFINITY: pid 3878 tid 4060 thread 44 bound to OS proc set 12\n",
      "OMP: Info #250: KMP_AFFINITY: pid 3878 tid 4059 thread 43 bound to OS proc set 11\n",
      "OMP: Info #250: KMP_AFFINITY: pid 3878 tid 4061 thread 45 bound to OS proc set 13\n",
      "OMP: Info #250: KMP_AFFINITY: pid 3878 tid 4063 thread 47 bound to OS proc set 15\n",
      "OMP: Info #250: KMP_AFFINITY: pid 3878 tid 4062 thread 46 bound to OS proc set 14\n",
      "OMP: Info #250: KMP_AFFINITY: pid 3878 tid 4064 thread 48 bound to OS proc set 16\n",
      "OMP: Info #250: KMP_AFFINITY: pid 3878 tid 4066 thread 50 bound to OS proc set 18\n",
      "OMP: Info #250: KMP_AFFINITY: pid 3878 tid 4065 thread 49 bound to OS proc set 17\n",
      "OMP: Info #250: KMP_AFFINITY: pid 3878 tid 4067 thread 51 bound to OS proc set 19\n",
      "OMP: Info #250: KMP_AFFINITY: pid 3878 tid 4068 thread 52 bound to OS proc set 20\n",
      "OMP: Info #250: KMP_AFFINITY: pid 3878 tid 4069 thread 53 bound to OS proc set 21\n",
      "OMP: Info #250: KMP_AFFINITY: pid 3878 tid 4070 thread 54 bound to OS proc set 22\n",
      "OMP: Info #250: KMP_AFFINITY: pid 3878 tid 4071 thread 55 bound to OS proc set 23\n",
      "OMP: Info #250: KMP_AFFINITY: pid 3878 tid 4073 thread 57 bound to OS proc set 25\n",
      "OMP: Info #250: KMP_AFFINITY: pid 3878 tid 4072 thread 56 bound to OS proc set 24\n",
      "OMP: Info #250: KMP_AFFINITY: pid 3878 tid 4074 thread 58 bound to OS proc set 26\n",
      "OMP: Info #250: KMP_AFFINITY: pid 3878 tid 4075 thread 59 bound to OS proc set 27\n",
      "OMP: Info #250: KMP_AFFINITY: pid 3878 tid 4076 thread 60 bound to OS proc set 28\n",
      "OMP: Info #250: KMP_AFFINITY: pid 3878 tid 4077 thread 61 bound to OS proc set 29\n",
      "OMP: Info #250: KMP_AFFINITY: pid 3878 tid 4078 thread 62 bound to OS proc set 30\n",
      "OMP: Info #250: KMP_AFFINITY: pid 3878 tid 4079 thread 63 bound to OS proc set 31\n",
      "OMP: Info #250: KMP_AFFINITY: pid 3878 tid 4080 thread 64 bound to OS proc set 0\n"
     ]
    },
    {
     "name": "stdout",
     "output_type": "stream",
     "text": [
      "3373/3373 [==============================] - 12s 4ms/step - loss: 2.5701 - crf_viterbi_accuracy: 0.7717 - val_loss: 2.3624 - val_crf_viterbi_accuracy: 0.7528\n",
      "Epoch 2/10\n",
      "3373/3373 [==============================] - 6s 2ms/step - loss: 2.5026 - crf_viterbi_accuracy: 0.7775 - val_loss: 2.3318 - val_crf_viterbi_accuracy: 0.7528\n",
      "Epoch 3/10\n",
      "3373/3373 [==============================] - 6s 2ms/step - loss: 2.4724 - crf_viterbi_accuracy: 0.7777 - val_loss: 2.3044 - val_crf_viterbi_accuracy: 0.7528\n",
      "Epoch 4/10\n",
      "3373/3373 [==============================] - 6s 2ms/step - loss: 2.4474 - crf_viterbi_accuracy: 0.7785 - val_loss: 2.2798 - val_crf_viterbi_accuracy: 0.7528\n",
      "Epoch 5/10\n",
      "3373/3373 [==============================] - 7s 2ms/step - loss: 2.4268 - crf_viterbi_accuracy: 0.7788 - val_loss: 2.2553 - val_crf_viterbi_accuracy: 0.7528\n",
      "Epoch 6/10\n",
      "3373/3373 [==============================] - 6s 2ms/step - loss: 2.4075 - crf_viterbi_accuracy: 0.7790 - val_loss: 2.2294 - val_crf_viterbi_accuracy: 0.7528\n",
      "Epoch 7/10\n",
      "3373/3373 [==============================] - 6s 2ms/step - loss: 2.3887 - crf_viterbi_accuracy: 0.7800 - val_loss: 2.2091 - val_crf_viterbi_accuracy: 0.7528\n",
      "Epoch 8/10\n",
      "3373/3373 [==============================] - 6s 2ms/step - loss: 2.3722 - crf_viterbi_accuracy: 0.7805 - val_loss: 2.1891 - val_crf_viterbi_accuracy: 0.7530\n",
      "Epoch 9/10\n",
      "3373/3373 [==============================] - 6s 2ms/step - loss: 2.3572 - crf_viterbi_accuracy: 0.7816 - val_loss: 2.1708 - val_crf_viterbi_accuracy: 0.7530\n",
      "Epoch 10/10\n",
      "3373/3373 [==============================] - 6s 2ms/step - loss: 2.3426 - crf_viterbi_accuracy: 0.7818 - val_loss: 2.1531 - val_crf_viterbi_accuracy: 0.7532\n"
     ]
    }
   ],
   "source": [
    "#模型训练，x_train[:], y_train[:]为训练数据，validation_split=0.10表示分出10%数据用作验证\n",
    "history = model.fit(x_train[:], y_train[:], validation_split=0.10, batch_size=64, epochs=10)"
   ]
  },
  {
   "cell_type": "code",
   "execution_count": 8,
   "id": "7d0b45f3",
   "metadata": {},
   "outputs": [
    {
     "data": {
      "text/plain": [
       "(1.7, 2.7)"
      ]
     },
     "execution_count": 8,
     "metadata": {},
     "output_type": "execute_result"
    },
    {
     "data": {
      "image/png": "[encoded data removed]",
      "text/plain": [
       "<Figure size 432x288 with 1 Axes>"
      ]
     },
     "metadata": {
      "needs_background": "light"
     },
     "output_type": "display_data"
    }
   ],
   "source": [
    "#绘制loss图像\n",
    "from matplotlib import pyplot\n",
    "pyplot.plot(history.history['loss'])\n",
    "pyplot.title('model1.1 train loss')\n",
    "pyplot.ylabel('loss')\n",
    "pyplot.xlabel('epoch')\n",
    "pyplot.legend(['train'], loc='upper right')\n",
    "pyplot.ylim([1.7,2.7])"
   ]
  },
  {
   "cell_type": "code",
   "execution_count": 13,
   "id": "a52093fe",
   "metadata": {},
   "outputs": [],
   "source": [
    "#保存模型\n",
    "model.save('/home/wcb/nerXY/model/model1.0.h5')"
   ]
  },
  {
   "cell_type": "code",
   "execution_count": null,
   "id": "603171da",
   "metadata": {},
   "outputs": [],
   "source": []
  }
 ],
 "metadata": {
  "kernelspec": {
   "display_name": "Python 3 (ipykernel)",
   "language": "python",
   "name": "python3"
  },
  "language_info": {
   "codemirror_mode": {
    "name": "ipython",
    "version": 3
   },
   "file_extension": ".py",
   "mimetype": "text/x-python",
   "name": "python",
   "nbconvert_exporter": "python",
   "pygments_lexer": "ipython3",
   "version": "3.7.13"
  }
 },
 "nbformat": 4,
 "nbformat_minor": 5
}
