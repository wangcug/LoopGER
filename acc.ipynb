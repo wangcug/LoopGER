{
 "cells": [
  {
   "cell_type": "code",
   "execution_count": 1,
   "id": "c1479204",
   "metadata": {},
   "outputs": [
    {
     "name": "stderr",
     "output_type": "stream",
     "text": [
      "Using TensorFlow backend.\n"
     ]
    }
   ],
   "source": [
    "import numpy as np\n",
    "import keras\n",
    "from keras import backend as K\n",
    "from keras.preprocessing.sequence import pad_sequences\n",
    "from keras.models import Sequential\n",
    "from keras.layers import Embedding, Bidirectional, LSTM, Dense, TimeDistributed, Dropout\n",
    "from keras_contrib.layers.crf import CRF\n",
    "import matplotlib.pyplot as plt\n",
    "import os\n",
    "from keras.models import Model\n",
    "from keras.callbacks import ReduceLROnPlateau\n",
    "from keras_contrib.layers.crf import CRF, crf_loss, crf_viterbi_accuracy\n",
    "os.environ['TF_CPP_MIN_LOG_LEVEL'] = '2'\n",
    "os.environ[\"KMP_DUPLICATE_LIB_OK\"]=\"TRUE\""
   ]
  },
  {
   "cell_type": "code",
   "execution_count": 2,
   "id": "eb4423bd",
   "metadata": {},
   "outputs": [
    {
     "name": "stdout",
     "output_type": "stream",
     "text": [
      "WARNING:tensorflow:From /home/wcb/anaconda3/envs/NERxy/lib/python3.7/site-packages/keras/backend/tensorflow_backend.py:517: The name tf.placeholder is deprecated. Please use tf.compat.v1.placeholder instead.\n",
      "\n",
      "WARNING:tensorflow:From /home/wcb/anaconda3/envs/NERxy/lib/python3.7/site-packages/keras/backend/tensorflow_backend.py:4138: The name tf.random_uniform is deprecated. Please use tf.random.uniform instead.\n",
      "\n",
      "WARNING:tensorflow:From /home/wcb/anaconda3/envs/NERxy/lib/python3.7/site-packages/keras/backend/tensorflow_backend.py:74: The name tf.get_default_graph is deprecated. Please use tf.compat.v1.get_default_graph instead.\n",
      "\n",
      "WARNING:tensorflow:From /home/wcb/anaconda3/envs/NERxy/lib/python3.7/site-packages/keras/backend/tensorflow_backend.py:2974: where (from tensorflow.python.ops.array_ops) is deprecated and will be removed in a future version.\n",
      "Instructions for updating:\n",
      "Use tf.where in 2.0, which has the same broadcast rule as np.where\n",
      "WARNING:tensorflow:From /home/wcb/anaconda3/envs/NERxy/lib/python3.7/site-packages/keras/backend/tensorflow_backend.py:133: The name tf.placeholder_with_default is deprecated. Please use tf.compat.v1.placeholder_with_default instead.\n",
      "\n",
      "WARNING:tensorflow:From /home/wcb/anaconda3/envs/NERxy/lib/python3.7/site-packages/keras/backend/tensorflow_backend.py:3445: calling dropout (from tensorflow.python.ops.nn_ops) with keep_prob is deprecated and will be removed in a future version.\n",
      "Instructions for updating:\n",
      "Please use `rate` instead of `keep_prob`. Rate should be set to `rate = 1 - keep_prob`.\n",
      "WARNING:tensorflow:From /home/wcb/anaconda3/envs/NERxy/lib/python3.7/site-packages/keras/backend/tensorflow_backend.py:174: The name tf.get_default_session is deprecated. Please use tf.compat.v1.get_default_session instead.\n",
      "\n",
      "WARNING:tensorflow:From /home/wcb/anaconda3/envs/NERxy/lib/python3.7/site-packages/keras/backend/tensorflow_backend.py:181: The name tf.ConfigProto is deprecated. Please use tf.compat.v1.ConfigProto instead.\n",
      "\n",
      "WARNING:tensorflow:From /home/wcb/anaconda3/envs/NERxy/lib/python3.7/site-packages/keras/backend/tensorflow_backend.py:186: The name tf.Session is deprecated. Please use tf.compat.v1.Session instead.\n",
      "\n",
      "WARNING:tensorflow:From /home/wcb/anaconda3/envs/NERxy/lib/python3.7/site-packages/keras/backend/tensorflow_backend.py:190: The name tf.global_variables is deprecated. Please use tf.compat.v1.global_variables instead.\n",
      "\n",
      "WARNING:tensorflow:From /home/wcb/anaconda3/envs/NERxy/lib/python3.7/site-packages/keras/backend/tensorflow_backend.py:199: The name tf.is_variable_initialized is deprecated. Please use tf.compat.v1.is_variable_initialized instead.\n",
      "\n",
      "WARNING:tensorflow:From /home/wcb/anaconda3/envs/NERxy/lib/python3.7/site-packages/keras/backend/tensorflow_backend.py:206: The name tf.variables_initializer is deprecated. Please use tf.compat.v1.variables_initializer instead.\n",
      "\n"
     ]
    },
    {
     "name": "stderr",
     "output_type": "stream",
     "text": [
      "OMP: Info #212: KMP_AFFINITY: decoding x2APIC ids.\n",
      "OMP: Info #210: KMP_AFFINITY: Affinity capable, using global cpuid leaf 11 info\n",
      "OMP: Info #154: KMP_AFFINITY: Initial OS proc set respected: 0-31\n",
      "OMP: Info #156: KMP_AFFINITY: 32 available OS procs\n",
      "OMP: Info #157: KMP_AFFINITY: Uniform topology\n",
      "OMP: Info #179: KMP_AFFINITY: 1 packages x 16 cores/pkg x 2 threads/core (16 total cores)\n",
      "OMP: Info #214: KMP_AFFINITY: OS proc to physical thread map:\n",
      "OMP: Info #171: KMP_AFFINITY: OS proc 0 maps to package 0 core 0 thread 0 \n",
      "OMP: Info #171: KMP_AFFINITY: OS proc 16 maps to package 0 core 0 thread 1 \n",
      "OMP: Info #171: KMP_AFFINITY: OS proc 1 maps to package 0 core 1 thread 0 \n",
      "OMP: Info #171: KMP_AFFINITY: OS proc 17 maps to package 0 core 1 thread 1 \n",
      "OMP: Info #171: KMP_AFFINITY: OS proc 2 maps to package 0 core 2 thread 0 \n",
      "OMP: Info #171: KMP_AFFINITY: OS proc 18 maps to package 0 core 2 thread 1 \n",
      "OMP: Info #171: KMP_AFFINITY: OS proc 3 maps to package 0 core 3 thread 0 \n",
      "OMP: Info #171: KMP_AFFINITY: OS proc 19 maps to package 0 core 3 thread 1 \n",
      "OMP: Info #171: KMP_AFFINITY: OS proc 4 maps to package 0 core 4 thread 0 \n",
      "OMP: Info #171: KMP_AFFINITY: OS proc 20 maps to package 0 core 4 thread 1 \n",
      "OMP: Info #171: KMP_AFFINITY: OS proc 5 maps to package 0 core 5 thread 0 \n",
      "OMP: Info #171: KMP_AFFINITY: OS proc 21 maps to package 0 core 5 thread 1 \n",
      "OMP: Info #171: KMP_AFFINITY: OS proc 6 maps to package 0 core 6 thread 0 \n",
      "OMP: Info #171: KMP_AFFINITY: OS proc 22 maps to package 0 core 6 thread 1 \n",
      "OMP: Info #171: KMP_AFFINITY: OS proc 7 maps to package 0 core 7 thread 0 \n",
      "OMP: Info #171: KMP_AFFINITY: OS proc 23 maps to package 0 core 7 thread 1 \n",
      "OMP: Info #171: KMP_AFFINITY: OS proc 8 maps to package 0 core 8 thread 0 \n",
      "OMP: Info #171: KMP_AFFINITY: OS proc 24 maps to package 0 core 8 thread 1 \n",
      "OMP: Info #171: KMP_AFFINITY: OS proc 9 maps to package 0 core 9 thread 0 \n",
      "OMP: Info #171: KMP_AFFINITY: OS proc 25 maps to package 0 core 9 thread 1 \n",
      "OMP: Info #171: KMP_AFFINITY: OS proc 10 maps to package 0 core 10 thread 0 \n",
      "OMP: Info #171: KMP_AFFINITY: OS proc 26 maps to package 0 core 10 thread 1 \n",
      "OMP: Info #171: KMP_AFFINITY: OS proc 11 maps to package 0 core 11 thread 0 \n",
      "OMP: Info #171: KMP_AFFINITY: OS proc 27 maps to package 0 core 11 thread 1 \n",
      "OMP: Info #171: KMP_AFFINITY: OS proc 12 maps to package 0 core 12 thread 0 \n",
      "OMP: Info #171: KMP_AFFINITY: OS proc 28 maps to package 0 core 12 thread 1 \n",
      "OMP: Info #171: KMP_AFFINITY: OS proc 13 maps to package 0 core 13 thread 0 \n",
      "OMP: Info #171: KMP_AFFINITY: OS proc 29 maps to package 0 core 13 thread 1 \n",
      "OMP: Info #171: KMP_AFFINITY: OS proc 14 maps to package 0 core 14 thread 0 \n",
      "OMP: Info #171: KMP_AFFINITY: OS proc 30 maps to package 0 core 14 thread 1 \n",
      "OMP: Info #171: KMP_AFFINITY: OS proc 15 maps to package 0 core 15 thread 0 \n",
      "OMP: Info #171: KMP_AFFINITY: OS proc 31 maps to package 0 core 15 thread 1 \n",
      "OMP: Info #250: KMP_AFFINITY: pid 9326 tid 9326 thread 0 bound to OS proc set 0\n"
     ]
    },
    {
     "name": "stdout",
     "output_type": "stream",
     "text": [
      "WARNING:tensorflow:From /home/wcb/anaconda3/envs/NERxy/lib/python3.7/site-packages/keras/optimizers.py:790: The name tf.train.Optimizer is deprecated. Please use tf.compat.v1.train.Optimizer instead.\n",
      "\n",
      "WARNING:tensorflow:From /home/wcb/anaconda3/envs/NERxy/lib/python3.7/site-packages/keras/backend/tensorflow_backend.py:986: The name tf.assign_add is deprecated. Please use tf.compat.v1.assign_add instead.\n",
      "\n",
      "WARNING:tensorflow:From /home/wcb/anaconda3/envs/NERxy/lib/python3.7/site-packages/keras/backend/tensorflow_backend.py:973: The name tf.assign is deprecated. Please use tf.compat.v1.assign instead.\n",
      "\n"
     ]
    }
   ],
   "source": [
    "#调用模型，‘’内为模型路径\n",
    "model1_0 = keras.models.load_model('/home/wcb/nerXY/model/model1.0.h5', custom_objects={\"CRF\": CRF, 'crf_loss': crf_loss,'crf_viterbi_accuracy': crf_viterbi_accuracy})"
   ]
  },
  {
   "cell_type": "code",
   "execution_count": 3,
   "id": "82c23350",
   "metadata": {
    "scrolled": false
   },
   "outputs": [],
   "source": [
    "#读入模型对应的词典\n",
    "word_dict = {}\n",
    "file = open('/home/wcb/nerXY/word_dict/1.0_word_dict.txt','r')\n",
    "for line in file.readlines():\n",
    "    line = line.strip()\n",
    "    v = line.split(' ')[0]\n",
    "    k = line.split(' ')[1]\n",
    "    word_dict[k] = v\n",
    "\n",
    "file.close()\n",
    "#print(word_dict)"
   ]
  },
  {
   "cell_type": "code",
   "execution_count": 13,
   "id": "4159017e",
   "metadata": {},
   "outputs": [],
   "source": [
    "#导入标签列表，不同模型的识别标签不同，标签列表顺序应与模型训练时的标签列表顺序一致\n",
    "class_dict = {'O':0,\n",
    "              'I-MC':1,\n",
    "              'I-PCC':2,\n",
    "              'I-DTS':3\n",
    "             }"
   ]
  },
  {
   "cell_type": "code",
   "execution_count": 7,
   "id": "554d8d27",
   "metadata": {},
   "outputs": [],
   "source": [
    "#获取模型预测标签与真实标签\n",
    "x_pre = []\n",
    "y_true = []\n",
    "text = []\n",
    "sen = []\n",
    "sen_word_tag = []\n",
    "tag_true = []\n",
    "#读取测试数据\n",
    "for line in open('/home/wcb/nerXY/test_data/test1.0.txt','r',encoding='utf-8'):\n",
    "    line = line.rstrip().split('\\t')\n",
    "    if not line:\n",
    "        continue\n",
    "    char = line[0]\n",
    "    if not char:\n",
    "        continue\n",
    "    if char not in word_dict:\n",
    "        char = 'UNK'\n",
    "    tag = line[-1]\n",
    "    sen.append(char)\n",
    "    sen_word_tag.append(word_dict.get(char))\n",
    "    tag_true.append(tag)\n",
    "    if char == '.':\n",
    "        sen_word_tag = pad_sequences([sen_word_tag], maxlen=40, padding='post')\n",
    "        x_pre.append(sen_word_tag)\n",
    "        text.append(sen)\n",
    "        y_true.append(tag_true)\n",
    "        sen_word_tag = []\n",
    "        sen = []\n",
    "        tag_true = []\n",
    "#print(x_pre)\n",
    "#print(text)\n",
    "#print(y_true)"
   ]
  },
  {
   "cell_type": "code",
   "execution_count": 16,
   "id": "7342150a",
   "metadata": {},
   "outputs": [],
   "source": [
    "#获取预测标签\n",
    "raw = []\n",
    "for i in range(0,len(x_pre)):\n",
    "    raw.append(model1_0.predict(x_pre[i])[0][-40:])\n",
    "label_dict = {j:i for i,j in class_dict.items()}\n",
    "result = []\n",
    "for i in range(0,len(raw)):\n",
    "    result.append([np.argmax(row) for row in raw[i]])\n",
    "\n",
    "chars = [i for i in text]\n",
    "\n",
    "tags = []\n",
    "for j in range(0,len(result)):\n",
    "    tags.append([label_dict.get(i) for i in result[j]][:len(text[j])])\n",
    "\n",
    "y_pre = []\n",
    "for i in range(0,len(result)):\n",
    "    y_pre.append(list(zip(chars[i], tags[i])))\n",
    "\n",
    "for i in range(0,len(y_true)):\n",
    "    if len(y_true[i]) > 40:\n",
    "        y_true[i] = y_true[i][40]"
   ]
  },
  {
   "cell_type": "code",
   "execution_count": 17,
   "id": "35a6f690",
   "metadata": {},
   "outputs": [
    {
     "name": "stdout",
     "output_type": "stream",
     "text": [
      "0 277 1775\n"
     ]
    },
    {
     "ename": "ZeroDivisionError",
     "evalue": "float division by zero",
     "output_type": "error",
     "traceback": [
      "\u001b[0;31m---------------------------------------------------------------------------\u001b[0m",
      "\u001b[0;31mZeroDivisionError\u001b[0m                         Traceback (most recent call last)",
      "\u001b[0;32m/tmp/ipykernel_9326/4275455567.py\u001b[0m in \u001b[0;36m<module>\u001b[0;34m\u001b[0m\n\u001b[1;32m     15\u001b[0m \u001b[0mP\u001b[0m \u001b[0;34m=\u001b[0m \u001b[0mTP\u001b[0m\u001b[0;34m/\u001b[0m\u001b[0;34m(\u001b[0m\u001b[0mTP\u001b[0m\u001b[0;34m+\u001b[0m\u001b[0mFP\u001b[0m\u001b[0;34m)\u001b[0m\u001b[0;34m\u001b[0m\u001b[0;34m\u001b[0m\u001b[0m\n\u001b[1;32m     16\u001b[0m \u001b[0mR\u001b[0m \u001b[0;34m=\u001b[0m \u001b[0mTP\u001b[0m\u001b[0;34m/\u001b[0m\u001b[0;34m(\u001b[0m\u001b[0mTP\u001b[0m\u001b[0;34m+\u001b[0m\u001b[0mFN\u001b[0m\u001b[0;34m)\u001b[0m\u001b[0;34m\u001b[0m\u001b[0;34m\u001b[0m\u001b[0m\n\u001b[0;32m---> 17\u001b[0;31m \u001b[0mF\u001b[0m \u001b[0;34m=\u001b[0m \u001b[0;34m(\u001b[0m\u001b[0;36m2\u001b[0m\u001b[0;34m*\u001b[0m\u001b[0mP\u001b[0m\u001b[0;34m*\u001b[0m\u001b[0mR\u001b[0m\u001b[0;34m)\u001b[0m\u001b[0;34m/\u001b[0m\u001b[0;34m(\u001b[0m\u001b[0mP\u001b[0m\u001b[0;34m+\u001b[0m\u001b[0mR\u001b[0m\u001b[0;34m)\u001b[0m\u001b[0;34m\u001b[0m\u001b[0;34m\u001b[0m\u001b[0m\n\u001b[0m\u001b[1;32m     18\u001b[0m \u001b[0mprint\u001b[0m\u001b[0;34m(\u001b[0m\u001b[0mP\u001b[0m\u001b[0;34m,\u001b[0m\u001b[0mR\u001b[0m\u001b[0;34m,\u001b[0m\u001b[0mF\u001b[0m\u001b[0;34m)\u001b[0m\u001b[0;34m\u001b[0m\u001b[0;34m\u001b[0m\u001b[0m\n",
      "\u001b[0;31mZeroDivisionError\u001b[0m: float division by zero"
     ]
    }
   ],
   "source": [
    "#计算精度，请注意输入匹配的模型与数据\n",
    "TP = 0\n",
    "FP = 0\n",
    "FN = 0\n",
    "for i in range(0,len(y_true)):\n",
    "    for j in range(0,len(y_true[i])):\n",
    "        if y_true[i][j] not in ['O']:\n",
    "            if y_true[i][j] == y_pre[i][j][1]:\n",
    "                TP = TP + 1\n",
    "            else:\n",
    "                FN = FN + 1\n",
    "        else:\n",
    "            if y_pre[i][j][1] not in ['O']:\n",
    "                FP = FP + 1\n",
    "print(TP,FP,FN)\n",
    "P = TP/(TP+FP)\n",
    "R = TP/(TP+FN)\n",
    "F = (2*P*R)/(P+R)\n",
    "print(P,R,F)"
   ]
  },
  {
   "cell_type": "code",
   "execution_count": null,
   "id": "282f36a2",
   "metadata": {},
   "outputs": [],
   "source": []
  }
 ],
 "metadata": {
  "kernelspec": {
   "display_name": "Python 3 (ipykernel)",
   "language": "python",
   "name": "python3"
  },
  "language_info": {
   "codemirror_mode": {
    "name": "ipython",
    "version": 3
   },
   "file_extension": ".py",
   "mimetype": "text/x-python",
   "name": "python",
   "nbconvert_exporter": "python",
   "pygments_lexer": "ipython3",
   "version": "3.7.13"
  }
 },
 "nbformat": 4,
 "nbformat_minor": 5
}
